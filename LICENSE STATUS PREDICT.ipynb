{
 "cells": [
  {
   "cell_type": "markdown",
   "id": "1553dbb3",
   "metadata": {},
   "source": [
    "# License Status Predict"
   ]
  },
  {
   "cell_type": "code",
   "execution_count": 1,
   "id": "2215465f",
   "metadata": {},
   "outputs": [],
   "source": [
    "import pandas as pd\n",
    "import numpy as np\n",
    "import seaborn as sns\n",
    "import matplotlib.pyplot as plt\n",
    "%matplotlib inline\n",
    "import warnings\n",
    "warnings.filterwarnings(action = 'ignore')"
   ]
  },
  {
   "cell_type": "code",
   "execution_count": 2,
   "id": "4a538f7a",
   "metadata": {},
   "outputs": [
    {
     "data": {
      "text/html": [
       "<div>\n",
       "<style scoped>\n",
       "    .dataframe tbody tr th:only-of-type {\n",
       "        vertical-align: middle;\n",
       "    }\n",
       "\n",
       "    .dataframe tbody tr th {\n",
       "        vertical-align: top;\n",
       "    }\n",
       "\n",
       "    .dataframe thead th {\n",
       "        text-align: right;\n",
       "    }\n",
       "</style>\n",
       "<table border=\"1\" class=\"dataframe\">\n",
       "  <thead>\n",
       "    <tr style=\"text-align: right;\">\n",
       "      <th></th>\n",
       "      <th>ID</th>\n",
       "      <th>LICENSE ID</th>\n",
       "      <th>ACCOUNT NUMBER</th>\n",
       "      <th>SITE NUMBER</th>\n",
       "      <th>LEGAL NAME</th>\n",
       "      <th>DOING BUSINESS AS NAME</th>\n",
       "      <th>ADDRESS</th>\n",
       "      <th>CITY</th>\n",
       "      <th>STATE</th>\n",
       "      <th>ZIP CODE</th>\n",
       "      <th>...</th>\n",
       "      <th>LICENSE TERM START DATE</th>\n",
       "      <th>LICENSE TERM EXPIRATION DATE</th>\n",
       "      <th>LICENSE APPROVED FOR ISSUANCE</th>\n",
       "      <th>DATE ISSUED</th>\n",
       "      <th>LICENSE STATUS CHANGE DATE</th>\n",
       "      <th>SSA</th>\n",
       "      <th>LATITUDE</th>\n",
       "      <th>LONGITUDE</th>\n",
       "      <th>LOCATION</th>\n",
       "      <th>LICENSE STATUS</th>\n",
       "    </tr>\n",
       "  </thead>\n",
       "  <tbody>\n",
       "    <tr>\n",
       "      <th>0</th>\n",
       "      <td>35342-20020816</td>\n",
       "      <td>1256593</td>\n",
       "      <td>32811</td>\n",
       "      <td>1</td>\n",
       "      <td>CARMEN CAHUE</td>\n",
       "      <td>CLAUDIA'S BRIDAL SHOP</td>\n",
       "      <td>2625 S CENTRAL PARK AVE  1</td>\n",
       "      <td>CHICAGO</td>\n",
       "      <td>IL</td>\n",
       "      <td>60623.0</td>\n",
       "      <td>...</td>\n",
       "      <td>2002-08-16T00:00:00</td>\n",
       "      <td>2003-08-15T00:00:00</td>\n",
       "      <td>2002-08-21T00:00:00</td>\n",
       "      <td>2006-04-11T00:00:00</td>\n",
       "      <td>NaN</td>\n",
       "      <td>25.0</td>\n",
       "      <td>41.843613</td>\n",
       "      <td>-87.714618</td>\n",
       "      <td>{'latitude': '41.843612879431845', 'longitude'...</td>\n",
       "      <td>AAI</td>\n",
       "    </tr>\n",
       "    <tr>\n",
       "      <th>1</th>\n",
       "      <td>1358463-20051116</td>\n",
       "      <td>1639294</td>\n",
       "      <td>262311</td>\n",
       "      <td>29</td>\n",
       "      <td>ISLA TROPICAL, INC.</td>\n",
       "      <td>ISLA TROPICAL</td>\n",
       "      <td>2825 W MONTROSE AVE</td>\n",
       "      <td>CHICAGO</td>\n",
       "      <td>IL</td>\n",
       "      <td>60618</td>\n",
       "      <td>...</td>\n",
       "      <td>2005-11-16T00:00:00</td>\n",
       "      <td>2006-11-15T00:00:00</td>\n",
       "      <td>2006-04-05T00:00:00</td>\n",
       "      <td>2006-06-12T00:00:00</td>\n",
       "      <td>2006-06-15T00:00:00</td>\n",
       "      <td>60.0</td>\n",
       "      <td>41.961132</td>\n",
       "      <td>-87.699626</td>\n",
       "      <td>{'latitude': '41.96113244107215', 'longitude':...</td>\n",
       "      <td>AAC</td>\n",
       "    </tr>\n",
       "    <tr>\n",
       "      <th>2</th>\n",
       "      <td>1980233-20090722</td>\n",
       "      <td>1980233</td>\n",
       "      <td>345008</td>\n",
       "      <td>1</td>\n",
       "      <td>DJS REMODELING</td>\n",
       "      <td>DJS REMODELING, INC.</td>\n",
       "      <td>1605  CLAVEY RD 1</td>\n",
       "      <td>HIGHLAND</td>\n",
       "      <td>IL</td>\n",
       "      <td>60035</td>\n",
       "      <td>...</td>\n",
       "      <td>2009-07-22T00:00:00</td>\n",
       "      <td>2011-07-15T00:00:00</td>\n",
       "      <td>2009-07-22T00:00:00</td>\n",
       "      <td>2009-07-22T00:00:00</td>\n",
       "      <td>NaN</td>\n",
       "      <td>NaN</td>\n",
       "      <td>NaN</td>\n",
       "      <td>NaN</td>\n",
       "      <td>NaN</td>\n",
       "      <td>AAI</td>\n",
       "    </tr>\n",
       "    <tr>\n",
       "      <th>3</th>\n",
       "      <td>1476582-20040211</td>\n",
       "      <td>1476582</td>\n",
       "      <td>273121</td>\n",
       "      <td>1</td>\n",
       "      <td>ALL-BRY CONSTRUCTION CO.</td>\n",
       "      <td>ALL-BRY CONSTRUCTION CO.</td>\n",
       "      <td>8  NORTH TRAIL</td>\n",
       "      <td>LEMONT</td>\n",
       "      <td>IL</td>\n",
       "      <td>60439</td>\n",
       "      <td>...</td>\n",
       "      <td>2004-02-11T00:00:00</td>\n",
       "      <td>2005-02-15T00:00:00</td>\n",
       "      <td>2004-02-10T00:00:00</td>\n",
       "      <td>2004-02-11T00:00:00</td>\n",
       "      <td>NaN</td>\n",
       "      <td>NaN</td>\n",
       "      <td>NaN</td>\n",
       "      <td>NaN</td>\n",
       "      <td>NaN</td>\n",
       "      <td>AAI</td>\n",
       "    </tr>\n",
       "    <tr>\n",
       "      <th>4</th>\n",
       "      <td>1141408-20080516</td>\n",
       "      <td>1896750</td>\n",
       "      <td>213785</td>\n",
       "      <td>1</td>\n",
       "      <td>MCDONOUGH MECHANICAL SERVICE</td>\n",
       "      <td>MCDONOUGH MECHANICAL SERVICE</td>\n",
       "      <td>4081  JOSEPH DR</td>\n",
       "      <td>WAUKEGAN</td>\n",
       "      <td>IL</td>\n",
       "      <td>60087</td>\n",
       "      <td>...</td>\n",
       "      <td>2008-05-16T00:00:00</td>\n",
       "      <td>2010-05-15T00:00:00</td>\n",
       "      <td>2008-06-04T00:00:00</td>\n",
       "      <td>2008-06-05T00:00:00</td>\n",
       "      <td>NaN</td>\n",
       "      <td>NaN</td>\n",
       "      <td>NaN</td>\n",
       "      <td>NaN</td>\n",
       "      <td>NaN</td>\n",
       "      <td>AAI</td>\n",
       "    </tr>\n",
       "  </tbody>\n",
       "</table>\n",
       "<p>5 rows × 32 columns</p>\n",
       "</div>"
      ],
      "text/plain": [
       "                 ID  LICENSE ID  ACCOUNT NUMBER  SITE NUMBER  \\\n",
       "0    35342-20020816     1256593           32811            1   \n",
       "1  1358463-20051116     1639294          262311           29   \n",
       "2  1980233-20090722     1980233          345008            1   \n",
       "3  1476582-20040211     1476582          273121            1   \n",
       "4  1141408-20080516     1896750          213785            1   \n",
       "\n",
       "                     LEGAL NAME        DOING BUSINESS AS NAME  \\\n",
       "0                  CARMEN CAHUE         CLAUDIA'S BRIDAL SHOP   \n",
       "1           ISLA TROPICAL, INC.                 ISLA TROPICAL   \n",
       "2                DJS REMODELING          DJS REMODELING, INC.   \n",
       "3      ALL-BRY CONSTRUCTION CO.      ALL-BRY CONSTRUCTION CO.   \n",
       "4  MCDONOUGH MECHANICAL SERVICE  MCDONOUGH MECHANICAL SERVICE   \n",
       "\n",
       "                      ADDRESS      CITY STATE ZIP CODE  ...  \\\n",
       "0  2625 S CENTRAL PARK AVE  1   CHICAGO    IL  60623.0  ...   \n",
       "1         2825 W MONTROSE AVE   CHICAGO    IL    60618  ...   \n",
       "2           1605  CLAVEY RD 1  HIGHLAND    IL    60035  ...   \n",
       "3              8  NORTH TRAIL    LEMONT    IL    60439  ...   \n",
       "4             4081  JOSEPH DR  WAUKEGAN    IL    60087  ...   \n",
       "\n",
       "   LICENSE TERM START DATE  LICENSE TERM EXPIRATION DATE  \\\n",
       "0      2002-08-16T00:00:00           2003-08-15T00:00:00   \n",
       "1      2005-11-16T00:00:00           2006-11-15T00:00:00   \n",
       "2      2009-07-22T00:00:00           2011-07-15T00:00:00   \n",
       "3      2004-02-11T00:00:00           2005-02-15T00:00:00   \n",
       "4      2008-05-16T00:00:00           2010-05-15T00:00:00   \n",
       "\n",
       "  LICENSE APPROVED FOR ISSUANCE          DATE ISSUED  \\\n",
       "0           2002-08-21T00:00:00  2006-04-11T00:00:00   \n",
       "1           2006-04-05T00:00:00  2006-06-12T00:00:00   \n",
       "2           2009-07-22T00:00:00  2009-07-22T00:00:00   \n",
       "3           2004-02-10T00:00:00  2004-02-11T00:00:00   \n",
       "4           2008-06-04T00:00:00  2008-06-05T00:00:00   \n",
       "\n",
       "   LICENSE STATUS CHANGE DATE   SSA   LATITUDE  LONGITUDE  \\\n",
       "0                         NaN  25.0  41.843613 -87.714618   \n",
       "1         2006-06-15T00:00:00  60.0  41.961132 -87.699626   \n",
       "2                         NaN   NaN        NaN        NaN   \n",
       "3                         NaN   NaN        NaN        NaN   \n",
       "4                         NaN   NaN        NaN        NaN   \n",
       "\n",
       "                                            LOCATION LICENSE STATUS  \n",
       "0  {'latitude': '41.843612879431845', 'longitude'...            AAI  \n",
       "1  {'latitude': '41.96113244107215', 'longitude':...            AAC  \n",
       "2                                                NaN            AAI  \n",
       "3                                                NaN            AAI  \n",
       "4                                                NaN            AAI  \n",
       "\n",
       "[5 rows x 32 columns]"
      ]
     },
     "execution_count": 2,
     "metadata": {},
     "output_type": "execute_result"
    }
   ],
   "source": [
    "df = pd.read_csv('data_file.csv')\n",
    "df.head()"
   ]
  },
  {
   "cell_type": "code",
   "execution_count": 3,
   "id": "135984bf",
   "metadata": {},
   "outputs": [
    {
     "data": {
      "text/plain": [
       "(85895, 32)"
      ]
     },
     "execution_count": 3,
     "metadata": {},
     "output_type": "execute_result"
    }
   ],
   "source": [
    "df.shape"
   ]
  },
  {
   "cell_type": "code",
   "execution_count": 4,
   "id": "b9e0df22",
   "metadata": {},
   "outputs": [
    {
     "name": "stdout",
     "output_type": "stream",
     "text": [
      "<class 'pandas.core.frame.DataFrame'>\n",
      "RangeIndex: 85895 entries, 0 to 85894\n",
      "Data columns (total 32 columns):\n",
      " #   Column                             Non-Null Count  Dtype  \n",
      "---  ------                             --------------  -----  \n",
      " 0   ID                                 85895 non-null  object \n",
      " 1   LICENSE ID                         85895 non-null  int64  \n",
      " 2   ACCOUNT NUMBER                     85895 non-null  int64  \n",
      " 3   SITE NUMBER                        85895 non-null  int64  \n",
      " 4   LEGAL NAME                         85895 non-null  object \n",
      " 5   DOING BUSINESS AS NAME             85894 non-null  object \n",
      " 6   ADDRESS                            85895 non-null  object \n",
      " 7   CITY                               85895 non-null  object \n",
      " 8   STATE                              85895 non-null  object \n",
      " 9   ZIP CODE                           85864 non-null  object \n",
      " 10  WARD                               36194 non-null  float64\n",
      " 11  PRECINCT                           29194 non-null  float64\n",
      " 12  WARD PRECINCT                      36195 non-null  object \n",
      " 13  POLICE DISTRICT                    31883 non-null  float64\n",
      " 14  LICENSE CODE                       85895 non-null  int64  \n",
      " 15  LICENSE DESCRIPTION                85895 non-null  object \n",
      " 16  LICENSE NUMBER                     85894 non-null  float64\n",
      " 17  APPLICATION TYPE                   85895 non-null  object \n",
      " 18  APPLICATION CREATED DATE           21235 non-null  object \n",
      " 19  APPLICATION REQUIREMENTS COMPLETE  85681 non-null  object \n",
      " 20  PAYMENT DATE                       84606 non-null  object \n",
      " 21  CONDITIONAL APPROVAL               85895 non-null  object \n",
      " 22  LICENSE TERM START DATE            85667 non-null  object \n",
      " 23  LICENSE TERM EXPIRATION DATE       85877 non-null  object \n",
      " 24  LICENSE APPROVED FOR ISSUANCE      79106 non-null  object \n",
      " 25  DATE ISSUED                        85895 non-null  object \n",
      " 26  LICENSE STATUS CHANGE DATE         30495 non-null  object \n",
      " 27  SSA                                9449 non-null   float64\n",
      " 28  LATITUDE                           38649 non-null  float64\n",
      " 29  LONGITUDE                          38649 non-null  float64\n",
      " 30  LOCATION                           38649 non-null  object \n",
      " 31  LICENSE STATUS                     85895 non-null  object \n",
      "dtypes: float64(7), int64(4), object(21)\n",
      "memory usage: 21.0+ MB\n"
     ]
    }
   ],
   "source": [
    "df.info()"
   ]
  },
  {
   "cell_type": "code",
   "execution_count": 5,
   "id": "5cea3f78",
   "metadata": {},
   "outputs": [
    {
     "data": {
      "text/html": [
       "<div>\n",
       "<style scoped>\n",
       "    .dataframe tbody tr th:only-of-type {\n",
       "        vertical-align: middle;\n",
       "    }\n",
       "\n",
       "    .dataframe tbody tr th {\n",
       "        vertical-align: top;\n",
       "    }\n",
       "\n",
       "    .dataframe thead th {\n",
       "        text-align: right;\n",
       "    }\n",
       "</style>\n",
       "<table border=\"1\" class=\"dataframe\">\n",
       "  <thead>\n",
       "    <tr style=\"text-align: right;\">\n",
       "      <th></th>\n",
       "      <th>LICENSE ID</th>\n",
       "      <th>ACCOUNT NUMBER</th>\n",
       "      <th>SITE NUMBER</th>\n",
       "      <th>WARD</th>\n",
       "      <th>PRECINCT</th>\n",
       "      <th>POLICE DISTRICT</th>\n",
       "      <th>LICENSE CODE</th>\n",
       "      <th>LICENSE NUMBER</th>\n",
       "      <th>SSA</th>\n",
       "      <th>LATITUDE</th>\n",
       "      <th>LONGITUDE</th>\n",
       "    </tr>\n",
       "  </thead>\n",
       "  <tbody>\n",
       "    <tr>\n",
       "      <th>count</th>\n",
       "      <td>8.589500e+04</td>\n",
       "      <td>85895.000000</td>\n",
       "      <td>85895.000000</td>\n",
       "      <td>36194.000000</td>\n",
       "      <td>29194.000000</td>\n",
       "      <td>31883.000000</td>\n",
       "      <td>85895.000000</td>\n",
       "      <td>8.589400e+04</td>\n",
       "      <td>9449.000000</td>\n",
       "      <td>38649.000000</td>\n",
       "      <td>38649.000000</td>\n",
       "    </tr>\n",
       "    <tr>\n",
       "      <th>mean</th>\n",
       "      <td>1.751303e+06</td>\n",
       "      <td>196695.421701</td>\n",
       "      <td>2.556028</td>\n",
       "      <td>28.528927</td>\n",
       "      <td>54.632973</td>\n",
       "      <td>13.529812</td>\n",
       "      <td>1111.736620</td>\n",
       "      <td>1.228151e+06</td>\n",
       "      <td>29.152080</td>\n",
       "      <td>41.880952</td>\n",
       "      <td>-87.681165</td>\n",
       "    </tr>\n",
       "    <tr>\n",
       "      <th>std</th>\n",
       "      <td>3.358780e+05</td>\n",
       "      <td>126819.343760</td>\n",
       "      <td>8.655706</td>\n",
       "      <td>13.921710</td>\n",
       "      <td>163.174955</td>\n",
       "      <td>7.275874</td>\n",
       "      <td>250.020872</td>\n",
       "      <td>7.431487e+05</td>\n",
       "      <td>17.419898</td>\n",
       "      <td>0.079617</td>\n",
       "      <td>0.056248</td>\n",
       "    </tr>\n",
       "    <tr>\n",
       "      <th>min</th>\n",
       "      <td>3.079300e+04</td>\n",
       "      <td>10.000000</td>\n",
       "      <td>1.000000</td>\n",
       "      <td>1.000000</td>\n",
       "      <td>1.000000</td>\n",
       "      <td>1.000000</td>\n",
       "      <td>1002.000000</td>\n",
       "      <td>1.290000e+02</td>\n",
       "      <td>1.000000</td>\n",
       "      <td>41.644694</td>\n",
       "      <td>-87.915285</td>\n",
       "    </tr>\n",
       "    <tr>\n",
       "      <th>25%</th>\n",
       "      <td>1.469024e+06</td>\n",
       "      <td>54615.000000</td>\n",
       "      <td>1.000000</td>\n",
       "      <td>17.000000</td>\n",
       "      <td>12.000000</td>\n",
       "      <td>8.000000</td>\n",
       "      <td>1010.000000</td>\n",
       "      <td>8.710900e+04</td>\n",
       "      <td>17.000000</td>\n",
       "      <td>41.834312</td>\n",
       "      <td>-87.719150</td>\n",
       "    </tr>\n",
       "    <tr>\n",
       "      <th>50%</th>\n",
       "      <td>1.778754e+06</td>\n",
       "      <td>248313.000000</td>\n",
       "      <td>1.000000</td>\n",
       "      <td>30.000000</td>\n",
       "      <td>26.000000</td>\n",
       "      <td>14.000000</td>\n",
       "      <td>1010.000000</td>\n",
       "      <td>1.442202e+06</td>\n",
       "      <td>28.000000</td>\n",
       "      <td>41.892679</td>\n",
       "      <td>-87.673321</td>\n",
       "    </tr>\n",
       "    <tr>\n",
       "      <th>75%</th>\n",
       "      <td>2.067578e+06</td>\n",
       "      <td>300243.500000</td>\n",
       "      <td>2.000000</td>\n",
       "      <td>42.000000</td>\n",
       "      <td>41.000000</td>\n",
       "      <td>19.000000</td>\n",
       "      <td>1011.000000</td>\n",
       "      <td>1.816581e+06</td>\n",
       "      <td>40.000000</td>\n",
       "      <td>41.938624</td>\n",
       "      <td>-87.639509</td>\n",
       "    </tr>\n",
       "    <tr>\n",
       "      <th>max</th>\n",
       "      <td>2.456551e+06</td>\n",
       "      <td>397444.000000</td>\n",
       "      <td>417.000000</td>\n",
       "      <td>50.000000</td>\n",
       "      <td>999.000000</td>\n",
       "      <td>181.000000</td>\n",
       "      <td>8340.000000</td>\n",
       "      <td>2.391410e+06</td>\n",
       "      <td>69.000000</td>\n",
       "      <td>42.022660</td>\n",
       "      <td>-87.525872</td>\n",
       "    </tr>\n",
       "  </tbody>\n",
       "</table>\n",
       "</div>"
      ],
      "text/plain": [
       "         LICENSE ID  ACCOUNT NUMBER   SITE NUMBER          WARD      PRECINCT  \\\n",
       "count  8.589500e+04    85895.000000  85895.000000  36194.000000  29194.000000   \n",
       "mean   1.751303e+06   196695.421701      2.556028     28.528927     54.632973   \n",
       "std    3.358780e+05   126819.343760      8.655706     13.921710    163.174955   \n",
       "min    3.079300e+04       10.000000      1.000000      1.000000      1.000000   \n",
       "25%    1.469024e+06    54615.000000      1.000000     17.000000     12.000000   \n",
       "50%    1.778754e+06   248313.000000      1.000000     30.000000     26.000000   \n",
       "75%    2.067578e+06   300243.500000      2.000000     42.000000     41.000000   \n",
       "max    2.456551e+06   397444.000000    417.000000     50.000000    999.000000   \n",
       "\n",
       "       POLICE DISTRICT  LICENSE CODE  LICENSE NUMBER          SSA  \\\n",
       "count     31883.000000  85895.000000    8.589400e+04  9449.000000   \n",
       "mean         13.529812   1111.736620    1.228151e+06    29.152080   \n",
       "std           7.275874    250.020872    7.431487e+05    17.419898   \n",
       "min           1.000000   1002.000000    1.290000e+02     1.000000   \n",
       "25%           8.000000   1010.000000    8.710900e+04    17.000000   \n",
       "50%          14.000000   1010.000000    1.442202e+06    28.000000   \n",
       "75%          19.000000   1011.000000    1.816581e+06    40.000000   \n",
       "max         181.000000   8340.000000    2.391410e+06    69.000000   \n",
       "\n",
       "           LATITUDE     LONGITUDE  \n",
       "count  38649.000000  38649.000000  \n",
       "mean      41.880952    -87.681165  \n",
       "std        0.079617      0.056248  \n",
       "min       41.644694    -87.915285  \n",
       "25%       41.834312    -87.719150  \n",
       "50%       41.892679    -87.673321  \n",
       "75%       41.938624    -87.639509  \n",
       "max       42.022660    -87.525872  "
      ]
     },
     "execution_count": 5,
     "metadata": {},
     "output_type": "execute_result"
    }
   ],
   "source": [
    "df.describe()"
   ]
  },
  {
   "cell_type": "code",
   "execution_count": 6,
   "id": "c81b1a16",
   "metadata": {},
   "outputs": [
    {
     "data": {
      "text/plain": [
       "['WARD',\n",
       " 'PRECINCT',\n",
       " 'WARD PRECINCT',\n",
       " 'POLICE DISTRICT',\n",
       " 'APPLICATION CREATED DATE',\n",
       " 'LICENSE STATUS CHANGE DATE',\n",
       " 'SSA',\n",
       " 'LATITUDE',\n",
       " 'LONGITUDE',\n",
       " 'LOCATION']"
      ]
     },
     "execution_count": 6,
     "metadata": {},
     "output_type": "execute_result"
    }
   ],
   "source": [
    "null_df = df.isnull().sum()/len(df)*100\n",
    "to_drop = null_df[null_df > 50].index.tolist()\n",
    "to_drop"
   ]
  },
  {
   "cell_type": "code",
   "execution_count": 7,
   "id": "1d5573f3",
   "metadata": {},
   "outputs": [],
   "source": [
    "df = df.drop(to_drop, axis = 1)"
   ]
  },
  {
   "cell_type": "code",
   "execution_count": 8,
   "id": "a8cdb65b",
   "metadata": {},
   "outputs": [],
   "source": [
    "df = df.drop(['LEGAL NAME', 'DOING BUSINESS AS NAME', 'ADDRESS', 'CITY', 'STATE', 'ZIP CODE'], axis = 1)"
   ]
  },
  {
   "cell_type": "code",
   "execution_count": 9,
   "id": "411966c9",
   "metadata": {},
   "outputs": [],
   "source": [
    "df = df.drop(['LICENSE ID', 'ACCOUNT NUMBER', 'LICENSE NUMBER'], axis = 1)"
   ]
  },
  {
   "cell_type": "code",
   "execution_count": 10,
   "id": "7442aa68",
   "metadata": {},
   "outputs": [],
   "source": [
    "df_cat = df.select_dtypes(include = object)\n",
    "df_num = df.select_dtypes(include = np.number)"
   ]
  },
  {
   "cell_type": "code",
   "execution_count": 11,
   "id": "0cada79f",
   "metadata": {},
   "outputs": [
    {
     "data": {
      "text/plain": [
       "AAI    64.497351\n",
       "AAC    35.159206\n",
       "REV     0.337622\n",
       "REA     0.003493\n",
       "INQ     0.002328\n",
       "Name: LICENSE STATUS, dtype: float64"
      ]
     },
     "execution_count": 11,
     "metadata": {},
     "output_type": "execute_result"
    }
   ],
   "source": [
    "# Target Column Distribution\n",
    "df['LICENSE STATUS'].value_counts(normalize = True)*100"
   ]
  },
  {
   "cell_type": "code",
   "execution_count": 12,
   "id": "c2f96b7f",
   "metadata": {},
   "outputs": [
    {
     "data": {
      "image/png": "[encoded data removed]",
      "text/plain": [
       "<Figure size 432x288 with 1 Axes>"
      ]
     },
     "metadata": {
      "needs_background": "light"
     },
     "output_type": "display_data"
    }
   ],
   "source": [
    "sns.countplot(df['LICENSE STATUS'])\n",
    "plt.show()"
   ]
  },
  {
   "cell_type": "code",
   "execution_count": 13,
   "id": "6dd4ccba",
   "metadata": {},
   "outputs": [
    {
     "data": {
      "text/html": [
       "<div>\n",
       "<style scoped>\n",
       "    .dataframe tbody tr th:only-of-type {\n",
       "        vertical-align: middle;\n",
       "    }\n",
       "\n",
       "    .dataframe tbody tr th {\n",
       "        vertical-align: top;\n",
       "    }\n",
       "\n",
       "    .dataframe thead th {\n",
       "        text-align: right;\n",
       "    }\n",
       "</style>\n",
       "<table border=\"1\" class=\"dataframe\">\n",
       "  <thead>\n",
       "    <tr style=\"text-align: right;\">\n",
       "      <th></th>\n",
       "      <th>ID</th>\n",
       "      <th>SITE NUMBER</th>\n",
       "      <th>LICENSE CODE</th>\n",
       "      <th>LICENSE DESCRIPTION</th>\n",
       "      <th>APPLICATION TYPE</th>\n",
       "      <th>APPLICATION REQUIREMENTS COMPLETE</th>\n",
       "      <th>PAYMENT DATE</th>\n",
       "      <th>CONDITIONAL APPROVAL</th>\n",
       "      <th>LICENSE TERM START DATE</th>\n",
       "      <th>LICENSE TERM EXPIRATION DATE</th>\n",
       "      <th>LICENSE APPROVED FOR ISSUANCE</th>\n",
       "      <th>DATE ISSUED</th>\n",
       "      <th>LICENSE STATUS</th>\n",
       "    </tr>\n",
       "  </thead>\n",
       "  <tbody>\n",
       "    <tr>\n",
       "      <th>0</th>\n",
       "      <td>35342-20020816</td>\n",
       "      <td>1</td>\n",
       "      <td>1010</td>\n",
       "      <td>Limited Business License</td>\n",
       "      <td>RENEW</td>\n",
       "      <td>2002-06-28T00:00:00</td>\n",
       "      <td>2002-08-21T00:00:00</td>\n",
       "      <td>N</td>\n",
       "      <td>2002-08-16T00:00:00</td>\n",
       "      <td>2003-08-15T00:00:00</td>\n",
       "      <td>2002-08-21T00:00:00</td>\n",
       "      <td>2006-04-11T00:00:00</td>\n",
       "      <td>AAI</td>\n",
       "    </tr>\n",
       "    <tr>\n",
       "      <th>1</th>\n",
       "      <td>1358463-20051116</td>\n",
       "      <td>29</td>\n",
       "      <td>1315</td>\n",
       "      <td>Mobile Food Dispenser</td>\n",
       "      <td>RENEW</td>\n",
       "      <td>2005-09-22T00:00:00</td>\n",
       "      <td>2005-11-03T00:00:00</td>\n",
       "      <td>N</td>\n",
       "      <td>2005-11-16T00:00:00</td>\n",
       "      <td>2006-11-15T00:00:00</td>\n",
       "      <td>2006-04-05T00:00:00</td>\n",
       "      <td>2006-06-12T00:00:00</td>\n",
       "      <td>AAC</td>\n",
       "    </tr>\n",
       "    <tr>\n",
       "      <th>2</th>\n",
       "      <td>1980233-20090722</td>\n",
       "      <td>1</td>\n",
       "      <td>1011</td>\n",
       "      <td>Home Repair</td>\n",
       "      <td>ISSUE</td>\n",
       "      <td>2009-07-22T00:00:00</td>\n",
       "      <td>2009-07-22T00:00:00</td>\n",
       "      <td>N</td>\n",
       "      <td>2009-07-22T00:00:00</td>\n",
       "      <td>2011-07-15T00:00:00</td>\n",
       "      <td>2009-07-22T00:00:00</td>\n",
       "      <td>2009-07-22T00:00:00</td>\n",
       "      <td>AAI</td>\n",
       "    </tr>\n",
       "    <tr>\n",
       "      <th>3</th>\n",
       "      <td>1476582-20040211</td>\n",
       "      <td>1</td>\n",
       "      <td>1010</td>\n",
       "      <td>Limited Business License</td>\n",
       "      <td>ISSUE</td>\n",
       "      <td>2004-02-10T00:00:00</td>\n",
       "      <td>2004-02-10T00:00:00</td>\n",
       "      <td>N</td>\n",
       "      <td>2004-02-11T00:00:00</td>\n",
       "      <td>2005-02-15T00:00:00</td>\n",
       "      <td>2004-02-10T00:00:00</td>\n",
       "      <td>2004-02-11T00:00:00</td>\n",
       "      <td>AAI</td>\n",
       "    </tr>\n",
       "    <tr>\n",
       "      <th>4</th>\n",
       "      <td>1141408-20080516</td>\n",
       "      <td>1</td>\n",
       "      <td>1010</td>\n",
       "      <td>Limited Business License</td>\n",
       "      <td>RENEW</td>\n",
       "      <td>2008-03-24T00:00:00</td>\n",
       "      <td>2008-06-04T00:00:00</td>\n",
       "      <td>N</td>\n",
       "      <td>2008-05-16T00:00:00</td>\n",
       "      <td>2010-05-15T00:00:00</td>\n",
       "      <td>2008-06-04T00:00:00</td>\n",
       "      <td>2008-06-05T00:00:00</td>\n",
       "      <td>AAI</td>\n",
       "    </tr>\n",
       "  </tbody>\n",
       "</table>\n",
       "</div>"
      ],
      "text/plain": [
       "                 ID  SITE NUMBER  LICENSE CODE       LICENSE DESCRIPTION  \\\n",
       "0    35342-20020816            1          1010  Limited Business License   \n",
       "1  1358463-20051116           29          1315     Mobile Food Dispenser   \n",
       "2  1980233-20090722            1          1011               Home Repair   \n",
       "3  1476582-20040211            1          1010  Limited Business License   \n",
       "4  1141408-20080516            1          1010  Limited Business License   \n",
       "\n",
       "  APPLICATION TYPE APPLICATION REQUIREMENTS COMPLETE         PAYMENT DATE  \\\n",
       "0            RENEW               2002-06-28T00:00:00  2002-08-21T00:00:00   \n",
       "1            RENEW               2005-09-22T00:00:00  2005-11-03T00:00:00   \n",
       "2            ISSUE               2009-07-22T00:00:00  2009-07-22T00:00:00   \n",
       "3            ISSUE               2004-02-10T00:00:00  2004-02-10T00:00:00   \n",
       "4            RENEW               2008-03-24T00:00:00  2008-06-04T00:00:00   \n",
       "\n",
       "  CONDITIONAL APPROVAL LICENSE TERM START DATE LICENSE TERM EXPIRATION DATE  \\\n",
       "0                    N     2002-08-16T00:00:00          2003-08-15T00:00:00   \n",
       "1                    N     2005-11-16T00:00:00          2006-11-15T00:00:00   \n",
       "2                    N     2009-07-22T00:00:00          2011-07-15T00:00:00   \n",
       "3                    N     2004-02-11T00:00:00          2005-02-15T00:00:00   \n",
       "4                    N     2008-05-16T00:00:00          2010-05-15T00:00:00   \n",
       "\n",
       "  LICENSE APPROVED FOR ISSUANCE          DATE ISSUED LICENSE STATUS  \n",
       "0           2002-08-21T00:00:00  2006-04-11T00:00:00            AAI  \n",
       "1           2006-04-05T00:00:00  2006-06-12T00:00:00            AAC  \n",
       "2           2009-07-22T00:00:00  2009-07-22T00:00:00            AAI  \n",
       "3           2004-02-10T00:00:00  2004-02-11T00:00:00            AAI  \n",
       "4           2008-06-04T00:00:00  2008-06-05T00:00:00            AAI  "
      ]
     },
     "execution_count": 13,
     "metadata": {},
     "output_type": "execute_result"
    }
   ],
   "source": [
    "df.head()"
   ]
  },
  {
   "cell_type": "code",
   "execution_count": 14,
   "id": "5e7ffb7c",
   "metadata": {},
   "outputs": [],
   "source": [
    "def new_feat(dist):\n",
    "\n",
    "    if dist == 'Limited Business License':\n",
    "        return 'Limited Business License'\n",
    "    if dist == 'Home Repair':\n",
    "        return 'Home Repair'\n",
    "    else:\n",
    "        return 'Others'\n",
    "\n",
    "df['LICENSE DESCRIPTION'] = df['LICENSE DESCRIPTION'].map(new_feat)\n",
    "\n",
    "def new_feat_1(dist):\n",
    "\n",
    "    if dist == 1010:\n",
    "        return '1010'\n",
    "    if dist == 1011:\n",
    "        return '1011'\n",
    "    else:\n",
    "        return 'Others'\n",
    "\n",
    "df['LICENSE CODE'] = df['LICENSE CODE'].map(new_feat_1)\n",
    "\n",
    "def new_feat_2(dist):\n",
    "\n",
    "    if dist == 1:\n",
    "        return '1'\n",
    "    if dist == 2:\n",
    "        return '2'\n",
    "    if dist == 3:\n",
    "        return '3'\n",
    "    else:\n",
    "        return 'Others'\n",
    "\n",
    "df['SITE NUMBER'] = df['SITE NUMBER'].map(new_feat_2)"
   ]
  },
  {
   "cell_type": "code",
   "execution_count": 15,
   "id": "43c2c14f",
   "metadata": {},
   "outputs": [],
   "source": [
    "df['APPLICATION REQUIREMENTS COMPLETE'] = df['APPLICATION REQUIREMENTS COMPLETE'].str[0:4]\n",
    "df['PAYMENT DATE'] = df['PAYMENT DATE'].str[0:4]\n",
    "df['CONDITIONAL APPROVAL'] = df['CONDITIONAL APPROVAL'].str[0:4]\n",
    "df['LICENSE TERM START DATE'] = df['LICENSE TERM START DATE'].str[0:4]\n",
    "df['LICENSE TERM EXPIRATION DATE'] = df['LICENSE TERM EXPIRATION DATE'].str[0:4]\n",
    "df['LICENSE APPROVED FOR ISSUANCE'] = df['LICENSE APPROVED FOR ISSUANCE'].str[0:4]\n",
    "df['DATE ISSUED'] = df['DATE ISSUED'].str[0:4]"
   ]
  },
  {
   "cell_type": "code",
   "execution_count": 16,
   "id": "b7d98c4d",
   "metadata": {},
   "outputs": [
    {
     "data": {
      "text/plain": [
       "ID                                   0.000000\n",
       "SITE NUMBER                          0.000000\n",
       "LICENSE CODE                         0.000000\n",
       "LICENSE DESCRIPTION                  0.000000\n",
       "APPLICATION TYPE                     0.000000\n",
       "APPLICATION REQUIREMENTS COMPLETE    0.249141\n",
       "PAYMENT DATE                         1.500669\n",
       "CONDITIONAL APPROVAL                 0.000000\n",
       "LICENSE TERM START DATE              0.265440\n",
       "LICENSE TERM EXPIRATION DATE         0.020956\n",
       "LICENSE APPROVED FOR ISSUANCE        7.903836\n",
       "DATE ISSUED                          0.000000\n",
       "LICENSE STATUS                       0.000000\n",
       "dtype: float64"
      ]
     },
     "execution_count": 16,
     "metadata": {},
     "output_type": "execute_result"
    }
   ],
   "source": [
    "df.isnull().sum()/len(df)*100"
   ]
  },
  {
   "cell_type": "code",
   "execution_count": 17,
   "id": "6b13cdbf",
   "metadata": {},
   "outputs": [],
   "source": [
    "# removing null values\n",
    "df = df.dropna()"
   ]
  },
  {
   "cell_type": "code",
   "execution_count": 18,
   "id": "c51d3633",
   "metadata": {},
   "outputs": [
    {
     "data": {
      "text/plain": [
       "ID                                   0.0\n",
       "SITE NUMBER                          0.0\n",
       "LICENSE CODE                         0.0\n",
       "LICENSE DESCRIPTION                  0.0\n",
       "APPLICATION TYPE                     0.0\n",
       "APPLICATION REQUIREMENTS COMPLETE    0.0\n",
       "PAYMENT DATE                         0.0\n",
       "CONDITIONAL APPROVAL                 0.0\n",
       "LICENSE TERM START DATE              0.0\n",
       "LICENSE TERM EXPIRATION DATE         0.0\n",
       "LICENSE APPROVED FOR ISSUANCE        0.0\n",
       "DATE ISSUED                          0.0\n",
       "LICENSE STATUS                       0.0\n",
       "dtype: float64"
      ]
     },
     "execution_count": 18,
     "metadata": {},
     "output_type": "execute_result"
    }
   ],
   "source": [
    "df.isnull().sum()/len(df)*100\n",
    "# Null values have been removed"
   ]
  },
  {
   "cell_type": "code",
   "execution_count": 19,
   "id": "d7d4d00b",
   "metadata": {},
   "outputs": [],
   "source": [
    "df_to_encode = df[['SITE NUMBER', 'LICENSE CODE', 'LICENSE DESCRIPTION', 'APPLICATION TYPE', 'CONDITIONAL APPROVAL']]\n",
    "df_not_to_encode = df[['APPLICATION REQUIREMENTS COMPLETE', 'PAYMENT DATE', 'LICENSE TERM START DATE', 'LICENSE TERM EXPIRATION DATE', \n",
    "                      'LICENSE APPROVED FOR ISSUANCE', 'DATE ISSUED']]"
   ]
  },
  {
   "cell_type": "code",
   "execution_count": 20,
   "id": "6614b311",
   "metadata": {},
   "outputs": [
    {
     "data": {
      "text/plain": [
       "Index(['2000', '2001', '2002', '2003', '2004', '2005', '2006', '2007', '2008',\n",
       "       '2009', '2010', '2011', '2012', '2013', '2014', '2015', '2016'],\n",
       "      dtype='object')"
      ]
     },
     "execution_count": 20,
     "metadata": {},
     "output_type": "execute_result"
    }
   ],
   "source": [
    "df['APPLICATION REQUIREMENTS COMPLETE'].value_counts().index.sort_values()"
   ]
  },
  {
   "cell_type": "code",
   "execution_count": 21,
   "id": "861f28ce",
   "metadata": {},
   "outputs": [
    {
     "data": {
      "text/plain": [
       "Index(['2000', '2001', '2002', '2003', '2004', '2005', '2006', '2007', '2008',\n",
       "       '2009', '2010', '2011', '2012', '2013', '2014', '2015', '2016'],\n",
       "      dtype='object')"
      ]
     },
     "execution_count": 21,
     "metadata": {},
     "output_type": "execute_result"
    }
   ],
   "source": [
    "df['PAYMENT DATE'].value_counts().index.sort_values()"
   ]
  },
  {
   "cell_type": "code",
   "execution_count": 22,
   "id": "b3beb0fe",
   "metadata": {},
   "outputs": [
    {
     "data": {
      "text/plain": [
       "Index(['1999', '2000', '2001', '2002', '2003', '2004', '2005', '2006', '2007',\n",
       "       '2008', '2009', '2010', '2011', '2012', '2013', '2014', '2015', '2016'],\n",
       "      dtype='object')"
      ]
     },
     "execution_count": 22,
     "metadata": {},
     "output_type": "execute_result"
    }
   ],
   "source": [
    "df['LICENSE TERM START DATE'].value_counts().index.sort_values()"
   ]
  },
  {
   "cell_type": "code",
   "execution_count": 23,
   "id": "a8b453ed",
   "metadata": {},
   "outputs": [
    {
     "data": {
      "text/plain": [
       "Index(['1901', '2000', '2001', '2002', '2003', '2004', '2005', '2006', '2007',\n",
       "       '2008', '2009', '2010', '2011', '2012', '2013', '2014', '2015', '2016',\n",
       "       '2017', '2018'],\n",
       "      dtype='object')"
      ]
     },
     "execution_count": 23,
     "metadata": {},
     "output_type": "execute_result"
    }
   ],
   "source": [
    "df['LICENSE TERM EXPIRATION DATE'].value_counts().index.sort_values()"
   ]
  },
  {
   "cell_type": "code",
   "execution_count": 24,
   "id": "5e02dec5",
   "metadata": {},
   "outputs": [
    {
     "data": {
      "text/plain": [
       "Index(['2000', '2001', '2002', '2003', '2004', '2005', '2006', '2007', '2008',\n",
       "       '2009', '2010', '2011', '2012', '2013', '2014', '2015', '2016'],\n",
       "      dtype='object')"
      ]
     },
     "execution_count": 24,
     "metadata": {},
     "output_type": "execute_result"
    }
   ],
   "source": [
    "df['LICENSE APPROVED FOR ISSUANCE'].value_counts().index.sort_values()"
   ]
  },
  {
   "cell_type": "code",
   "execution_count": 25,
   "id": "83f5f7ce",
   "metadata": {},
   "outputs": [
    {
     "data": {
      "text/plain": [
       "Index(['2002', '2003', '2004', '2005', '2006', '2007', '2008', '2009', '2010',\n",
       "       '2011', '2012', '2013', '2014', '2015', '2016'],\n",
       "      dtype='object')"
      ]
     },
     "execution_count": 25,
     "metadata": {},
     "output_type": "execute_result"
    }
   ],
   "source": [
    "df['DATE ISSUED'].value_counts().index.sort_values()"
   ]
  },
  {
   "cell_type": "code",
   "execution_count": 26,
   "id": "3750e81c",
   "metadata": {},
   "outputs": [],
   "source": [
    "df_to_encode = pd.get_dummies(df_to_encode, drop_first = True)\n",
    "X = pd.concat([df_to_encode, df_not_to_encode], axis = 1)\n",
    "y = df['LICENSE STATUS']"
   ]
  },
  {
   "cell_type": "code",
   "execution_count": 27,
   "id": "786f5c52",
   "metadata": {},
   "outputs": [
    {
     "data": {
      "text/plain": [
       "AAI    64.753910\n",
       "AAC    34.882505\n",
       "REV     0.359758\n",
       "REA     0.003827\n",
       "Name: LICENSE STATUS, dtype: float64"
      ]
     },
     "execution_count": 27,
     "metadata": {},
     "output_type": "execute_result"
    }
   ],
   "source": [
    "y.value_counts(normalize = True)*100\n",
    "# Our target variable is having 4 classes out of which 2 are in very less number.\n",
    "# We can consider dropping them and consider the 2 classes which form a majority of the proportion i.e. classes - AAI, and AAC"
   ]
  },
  {
   "cell_type": "code",
   "execution_count": 28,
   "id": "b68756ff",
   "metadata": {},
   "outputs": [],
   "source": [
    "to_drop_index = y[(y == 'REV')|(y == 'REA')].index.tolist()\n",
    "y = y.drop(to_drop_index)"
   ]
  },
  {
   "cell_type": "code",
   "execution_count": 29,
   "id": "d1c902de",
   "metadata": {},
   "outputs": [],
   "source": [
    "X = X.drop(to_drop_index)"
   ]
  },
  {
   "cell_type": "code",
   "execution_count": 30,
   "id": "11ce1124",
   "metadata": {},
   "outputs": [],
   "source": [
    "y = pd.get_dummies(y, drop_first = True)"
   ]
  },
  {
   "cell_type": "code",
   "execution_count": 31,
   "id": "a10891e4",
   "metadata": {},
   "outputs": [
    {
     "name": "stdout",
     "output_type": "stream",
     "text": [
      "(54670, 18)\n",
      "(23431, 18)\n",
      "(54670, 1)\n",
      "(23431, 1)\n"
     ]
    }
   ],
   "source": [
    "from sklearn.model_selection import train_test_split\n",
    "\n",
    "X_train, X_test, y_train, y_test = train_test_split(X, y, test_size = 0.3, random_state = 1)\n",
    "print(X_train.shape)\n",
    "print(X_test.shape)\n",
    "print(y_train.shape)\n",
    "print(y_test.shape)"
   ]
  },
  {
   "cell_type": "code",
   "execution_count": 32,
   "id": "c753654c",
   "metadata": {},
   "outputs": [],
   "source": [
    "from sklearn.metrics import classification_report, confusion_matrix, roc_auc_score, roc_curve"
   ]
  },
  {
   "cell_type": "code",
   "execution_count": 33,
   "id": "4b0a2f56",
   "metadata": {},
   "outputs": [
    {
     "name": "stdout",
     "output_type": "stream",
     "text": [
      "              precision    recall  f1-score   support\n",
      "\n",
      "           0       0.74      0.65      0.69      8120\n",
      "           1       0.83      0.88      0.85     15311\n",
      "\n",
      "    accuracy                           0.80     23431\n",
      "   macro avg       0.78      0.77      0.77     23431\n",
      "weighted avg       0.80      0.80      0.80     23431\n",
      "\n"
     ]
    },
    {
     "data": {
      "image/png": "[encoded data removed]",
      "text/plain": [
       "<Figure size 432x288 with 2 Axes>"
      ]
     },
     "metadata": {
      "needs_background": "light"
     },
     "output_type": "display_data"
    }
   ],
   "source": [
    "from sklearn.tree import DecisionTreeClassifier\n",
    "dt = DecisionTreeClassifier()\n",
    "dt_model = dt.fit(X_train, y_train)\n",
    "y_pred = dt_model.predict(X_test)\n",
    "print(classification_report(y_test, y_pred))\n",
    "sns.heatmap(confusion_matrix(y_test, y_pred), annot = True, fmt = 'd')\n",
    "plt.show()"
   ]
  },
  {
   "cell_type": "code",
   "execution_count": 34,
   "id": "2f1aa2f3",
   "metadata": {},
   "outputs": [
    {
     "name": "stdout",
     "output_type": "stream",
     "text": [
      "              precision    recall  f1-score   support\n",
      "\n",
      "           0       0.68      0.75      0.71      8120\n",
      "           1       0.86      0.82      0.84     15311\n",
      "\n",
      "    accuracy                           0.79     23431\n",
      "   macro avg       0.77      0.78      0.77     23431\n",
      "weighted avg       0.80      0.79      0.79     23431\n",
      "\n"
     ]
    },
    {
     "data": {
      "image/png": "[encoded data removed]",
      "text/plain": [
       "<Figure size 432x288 with 2 Axes>"
      ]
     },
     "metadata": {
      "needs_background": "light"
     },
     "output_type": "display_data"
    }
   ],
   "source": [
    "from sklearn.ensemble import RandomForestClassifier\n",
    "rf = RandomForestClassifier(class_weight = 'balanced')\n",
    "rf_model = rf.fit(X_train, y_train)\n",
    "y_pred = rf_model.predict(X_test)\n",
    "print(classification_report(y_test, y_pred))\n",
    "sns.heatmap(confusion_matrix(y_test, y_pred), annot = True, fmt = 'd')\n",
    "plt.show()"
   ]
  },
  {
   "cell_type": "code",
   "execution_count": 35,
   "id": "779f1a43",
   "metadata": {},
   "outputs": [
    {
     "name": "stdout",
     "output_type": "stream",
     "text": [
      "              precision    recall  f1-score   support\n",
      "\n",
      "           0       0.79      0.11      0.19      8120\n",
      "           1       0.68      0.98      0.80     15311\n",
      "\n",
      "    accuracy                           0.68     23431\n",
      "   macro avg       0.73      0.55      0.50     23431\n",
      "weighted avg       0.72      0.68      0.59     23431\n",
      "\n"
     ]
    },
    {
     "data": {
      "image/png": "[encoded data removed]",
      "text/plain": [
       "<Figure size 432x288 with 2 Axes>"
      ]
     },
     "metadata": {
      "needs_background": "light"
     },
     "output_type": "display_data"
    }
   ],
   "source": [
    "from sklearn.naive_bayes import GaussianNB\n",
    "nb = GaussianNB()\n",
    "nb_model = nb.fit(X_train, y_train)\n",
    "y_pred = nb_model.predict(X_test)\n",
    "print(classification_report(y_test, y_pred))\n",
    "sns.heatmap(confusion_matrix(y_test, y_pred), annot = True, fmt = 'd')\n",
    "plt.show()"
   ]
  },
  {
   "cell_type": "code",
   "execution_count": 36,
   "id": "8376ffeb",
   "metadata": {},
   "outputs": [
    {
     "name": "stdout",
     "output_type": "stream",
     "text": [
      "              precision    recall  f1-score   support\n",
      "\n",
      "           0       0.67      0.61      0.64      8120\n",
      "           1       0.80      0.84      0.82     15311\n",
      "\n",
      "    accuracy                           0.76     23431\n",
      "   macro avg       0.74      0.73      0.73     23431\n",
      "weighted avg       0.76      0.76      0.76     23431\n",
      "\n"
     ]
    },
    {
     "data": {
      "image/png": "[encoded data removed]",
      "text/plain": [
       "<Figure size 432x288 with 2 Axes>"
      ]
     },
     "metadata": {
      "needs_background": "light"
     },
     "output_type": "display_data"
    }
   ],
   "source": [
    "from sklearn.ensemble import AdaBoostClassifier\n",
    "ada = AdaBoostClassifier()\n",
    "ada_model = ada.fit(X_train, y_train)\n",
    "y_pred = ada_model.predict(X_test)\n",
    "print(classification_report(y_test, y_pred))\n",
    "sns.heatmap(confusion_matrix(y_test, y_pred), annot = True, fmt = 'd')\n",
    "plt.show()"
   ]
  },
  {
   "cell_type": "code",
   "execution_count": 37,
   "id": "7464378f",
   "metadata": {},
   "outputs": [
    {
     "name": "stdout",
     "output_type": "stream",
     "text": [
      "              precision    recall  f1-score   support\n",
      "\n",
      "           0       0.74      0.62      0.68      8120\n",
      "           1       0.82      0.89      0.85     15311\n",
      "\n",
      "    accuracy                           0.80     23431\n",
      "   macro avg       0.78      0.76      0.76     23431\n",
      "weighted avg       0.79      0.80      0.79     23431\n",
      "\n"
     ]
    },
    {
     "data": {
      "image/png": "[encoded data removed]",
      "text/plain": [
       "<Figure size 432x288 with 2 Axes>"
      ]
     },
     "metadata": {
      "needs_background": "light"
     },
     "output_type": "display_data"
    }
   ],
   "source": [
    "from sklearn.neighbors import KNeighborsClassifier\n",
    "knn = KNeighborsClassifier()\n",
    "knn_model = knn.fit(X_train, y_train)\n",
    "y_pred = knn_model.predict(X_test)\n",
    "print(classification_report(y_test, y_pred))\n",
    "sns.heatmap(confusion_matrix(y_test, y_pred), annot = True, fmt = 'd')\n",
    "plt.show()"
   ]
  },
  {
   "cell_type": "code",
   "execution_count": 38,
   "id": "63b235b0",
   "metadata": {},
   "outputs": [
    {
     "name": "stdout",
     "output_type": "stream",
     "text": [
      "              precision    recall  f1-score   support\n",
      "\n",
      "           0       0.69      0.46      0.55      8120\n",
      "           1       0.76      0.89      0.82     15311\n",
      "\n",
      "    accuracy                           0.74     23431\n",
      "   macro avg       0.72      0.67      0.68     23431\n",
      "weighted avg       0.73      0.74      0.73     23431\n",
      "\n"
     ]
    },
    {
     "data": {
      "image/png": "[encoded data removed]",
      "text/plain": [
       "<Figure size 432x288 with 2 Axes>"
      ]
     },
     "metadata": {
      "needs_background": "light"
     },
     "output_type": "display_data"
    }
   ],
   "source": [
    "from sklearn.linear_model import LogisticRegression\n",
    "logreg = LogisticRegression()\n",
    "logreg_model = logreg.fit(X_train, y_train)\n",
    "y_pred = logreg_model.predict(X_test)\n",
    "print(classification_report(y_test, y_pred))\n",
    "sns.heatmap(confusion_matrix(y_test, y_pred), annot = True, fmt = 'd')\n",
    "plt.show()"
   ]
  },
  {
   "cell_type": "code",
   "execution_count": 39,
   "id": "4d1afeb5",
   "metadata": {},
   "outputs": [],
   "source": [
    "import imblearn\n",
    "from imblearn.over_sampling import SMOTE\n",
    "sm = SMOTE()\n",
    "X_resampled, y_resampled = sm.fit_resample(X_train, y_train)"
   ]
  },
  {
   "cell_type": "code",
   "execution_count": 40,
   "id": "067b088a",
   "metadata": {},
   "outputs": [
    {
     "name": "stdout",
     "output_type": "stream",
     "text": [
      "              precision    recall  f1-score   support\n",
      "\n",
      "           0       0.64      0.66      0.65      8120\n",
      "           1       0.81      0.80      0.81     15311\n",
      "\n",
      "    accuracy                           0.75     23431\n",
      "   macro avg       0.73      0.73      0.73     23431\n",
      "weighted avg       0.75      0.75      0.75     23431\n",
      "\n"
     ]
    },
    {
     "data": {
      "image/png": "[encoded data removed]",
      "text/plain": [
       "<Figure size 432x288 with 2 Axes>"
      ]
     },
     "metadata": {
      "needs_background": "light"
     },
     "output_type": "display_data"
    }
   ],
   "source": [
    "from sklearn.ensemble import AdaBoostClassifier\n",
    "ada = AdaBoostClassifier()\n",
    "ada_model = ada.fit(X_resampled, y_resampled)\n",
    "y_pred = ada_model.predict(X_test)\n",
    "print(classification_report(y_test, y_pred))\n",
    "sns.heatmap(confusion_matrix(y_test, y_pred), annot = True, fmt = 'd')\n",
    "plt.show()"
   ]
  },
  {
   "cell_type": "code",
   "execution_count": 41,
   "id": "42af3d84",
   "metadata": {},
   "outputs": [
    {
     "data": {
      "text/plain": [
       "AAI\n",
       "0      27461\n",
       "1      27461\n",
       "dtype: int64"
      ]
     },
     "execution_count": 41,
     "metadata": {},
     "output_type": "execute_result"
    }
   ],
   "source": [
    "from imblearn.over_sampling import RandomOverSampler\n",
    "from imblearn.under_sampling import RandomUnderSampler\n",
    "\n",
    "# instantiating over and under sampler\n",
    "\n",
    "under = RandomUnderSampler(sampling_strategy=0.70) \n",
    "over = RandomOverSampler(sampling_strategy=1)\n",
    "\n",
    "X_under, y_under = under.fit_resample(X_train, y_train)\n",
    "\n",
    "X_train_c, y_train_c = over.fit_resample(X_under, y_under)\n",
    "y_train_c.value_counts()"
   ]
  },
  {
   "cell_type": "code",
   "execution_count": 42,
   "id": "71d770dd",
   "metadata": {},
   "outputs": [
    {
     "name": "stdout",
     "output_type": "stream",
     "text": [
      "              precision    recall  f1-score   support\n",
      "\n",
      "           0       0.64      0.66      0.65      8120\n",
      "           1       0.81      0.80      0.81     15311\n",
      "\n",
      "    accuracy                           0.75     23431\n",
      "   macro avg       0.73      0.73      0.73     23431\n",
      "weighted avg       0.75      0.75      0.75     23431\n",
      "\n"
     ]
    },
    {
     "data": {
      "image/png": "[encoded data removed]",
      "text/plain": [
       "<Figure size 432x288 with 2 Axes>"
      ]
     },
     "metadata": {
      "needs_background": "light"
     },
     "output_type": "display_data"
    }
   ],
   "source": [
    "from sklearn.ensemble import AdaBoostClassifier\n",
    "ada = AdaBoostClassifier()\n",
    "ada_model = ada.fit(X_train_c, y_train_c)\n",
    "y_pred = ada_model.predict(X_test)\n",
    "print(classification_report(y_test, y_pred))\n",
    "sns.heatmap(confusion_matrix(y_test, y_pred), annot = True, fmt = 'd')\n",
    "plt.show()"
   ]
  },
  {
   "cell_type": "code",
   "execution_count": 43,
   "id": "34d6ce89",
   "metadata": {},
   "outputs": [
    {
     "data": {
      "text/plain": [
       "Index(['SITE NUMBER_2', 'SITE NUMBER_3', 'SITE NUMBER_Others',\n",
       "       'LICENSE CODE_1011', 'LICENSE CODE_Others',\n",
       "       'LICENSE DESCRIPTION_Limited Business License',\n",
       "       'LICENSE DESCRIPTION_Others', 'APPLICATION TYPE_C_EXPA',\n",
       "       'APPLICATION TYPE_C_LOC', 'APPLICATION TYPE_ISSUE',\n",
       "       'APPLICATION TYPE_RENEW', 'CONDITIONAL APPROVAL_Y',\n",
       "       'APPLICATION REQUIREMENTS COMPLETE', 'PAYMENT DATE',\n",
       "       'LICENSE TERM START DATE', 'LICENSE TERM EXPIRATION DATE',\n",
       "       'LICENSE APPROVED FOR ISSUANCE', 'DATE ISSUED'],\n",
       "      dtype='object')"
      ]
     },
     "execution_count": 43,
     "metadata": {},
     "output_type": "execute_result"
    }
   ],
   "source": [
    "X.columns"
   ]
  },
  {
   "cell_type": "code",
   "execution_count": 44,
   "id": "f68bdb64",
   "metadata": {},
   "outputs": [],
   "source": [
    "X_cat = X[['APPLICATION REQUIREMENTS COMPLETE', 'PAYMENT DATE',\n",
    "       'LICENSE TERM START DATE', 'LICENSE TERM EXPIRATION DATE',\n",
    "       'LICENSE APPROVED FOR ISSUANCE', 'DATE ISSUED']]\n",
    "X_cat_1 = X[['SITE NUMBER_2', 'SITE NUMBER_3', 'SITE NUMBER_Others',\n",
    "       'LICENSE CODE_1011', 'LICENSE CODE_Others',\n",
    "       'LICENSE DESCRIPTION_Limited Business License',\n",
    "       'LICENSE DESCRIPTION_Others', 'APPLICATION TYPE_C_EXPA',\n",
    "       'APPLICATION TYPE_C_LOC', 'APPLICATION TYPE_ISSUE',\n",
    "       'APPLICATION TYPE_RENEW', 'CONDITIONAL APPROVAL_Y']]"
   ]
  },
  {
   "cell_type": "code",
   "execution_count": 45,
   "id": "e5100880",
   "metadata": {},
   "outputs": [],
   "source": [
    "from sklearn.preprocessing import LabelEncoder\n",
    "le = LabelEncoder()\n",
    "for i in X_cat.columns:\n",
    "    X_cat[i] = le.fit_transform(X_cat[i])"
   ]
  },
  {
   "cell_type": "code",
   "execution_count": 46,
   "id": "de7f4789",
   "metadata": {},
   "outputs": [],
   "source": [
    "X_new = pd.concat([X_cat, X_cat_1], axis = 1)"
   ]
  },
  {
   "cell_type": "code",
   "execution_count": 47,
   "id": "2e22ad53",
   "metadata": {},
   "outputs": [
    {
     "name": "stdout",
     "output_type": "stream",
     "text": [
      "(54670, 18)\n",
      "(23431, 18)\n",
      "(54670, 1)\n",
      "(23431, 1)\n"
     ]
    }
   ],
   "source": [
    "X_train, X_test, y_train, y_test = train_test_split(X_new, y, test_size = 0.3, random_state = 1)\n",
    "print(X_train.shape)\n",
    "print(X_test.shape)\n",
    "print(y_train.shape)\n",
    "print(y_test.shape)"
   ]
  },
  {
   "cell_type": "code",
   "execution_count": 48,
   "id": "b2046211",
   "metadata": {},
   "outputs": [
    {
     "name": "stdout",
     "output_type": "stream",
     "text": [
      "[03:09:35] WARNING: C:/Users/Administrator/workspace/xgboost-win64_release_1.5.1/src/learner.cc:576: \n",
      "Parameters: { \"class_weight\" } might not be used.\n",
      "\n",
      "  This could be a false alarm, with some parameters getting used by language bindings but\n",
      "  then being mistakenly passed down to XGBoost core, or some parameter actually being used\n",
      "  but getting flagged wrongly here. Please open an issue if you find any such cases.\n",
      "\n",
      "\n",
      "[03:09:35] WARNING: C:/Users/Administrator/workspace/xgboost-win64_release_1.5.1/src/learner.cc:1115: Starting in XGBoost 1.3.0, the default evaluation metric used with the objective 'binary:logistic' was changed from 'error' to 'logloss'. Explicitly set eval_metric if you'd like to restore the old behavior.\n",
      "              precision    recall  f1-score   support\n",
      "\n",
      "           0       0.76      0.62      0.68      8120\n",
      "           1       0.82      0.90      0.86     15311\n",
      "\n",
      "    accuracy                           0.80     23431\n",
      "   macro avg       0.79      0.76      0.77     23431\n",
      "weighted avg       0.80      0.80      0.80     23431\n",
      "\n"
     ]
    },
    {
     "data": {
      "image/png": "[encoded data removed]",
      "text/plain": [
       "<Figure size 432x288 with 2 Axes>"
      ]
     },
     "metadata": {
      "needs_background": "light"
     },
     "output_type": "display_data"
    }
   ],
   "source": [
    "import xgboost\n",
    "from xgboost import XGBClassifier\n",
    "xgb = XGBClassifier(class_weight = 'balanced')\n",
    "xgb_model = xgb.fit(X_train, y_train)\n",
    "y_pred = xgb_model.predict(X_test)\n",
    "print(classification_report(y_test, y_pred))\n",
    "sns.heatmap(confusion_matrix(y_test, y_pred), annot = True, fmt = 'd')\n",
    "plt.show()"
   ]
  },
  {
   "cell_type": "code",
   "execution_count": 49,
   "id": "20eb51e7",
   "metadata": {},
   "outputs": [
    {
     "data": {
      "image/png": "[encoded data removed]",
      "text/plain": [
       "<Figure size 432x288 with 1 Axes>"
      ]
     },
     "metadata": {
      "needs_background": "light"
     },
     "output_type": "display_data"
    }
   ],
   "source": [
    "df_imp = pd.DataFrame()\n",
    "df_imp['Features'] = X_new.columns\n",
    "df_imp['Imp Score'] = xgb_model.feature_importances_\n",
    "df_imp = df_imp.sort_values(by = 'Imp Score', ascending = False)\n",
    "sns.barplot(df_imp['Features'], df_imp['Imp Score'])\n",
    "plt.xticks(rotation = 90)\n",
    "plt.show()"
   ]
  },
  {
   "cell_type": "code",
   "execution_count": 50,
   "id": "2a4dcee7",
   "metadata": {},
   "outputs": [
    {
     "data": {
      "text/plain": [
       "AAI\n",
       "0      27461\n",
       "1      27461\n",
       "dtype: int64"
      ]
     },
     "execution_count": 50,
     "metadata": {},
     "output_type": "execute_result"
    }
   ],
   "source": [
    "from imblearn.over_sampling import RandomOverSampler\n",
    "from imblearn.under_sampling import RandomUnderSampler\n",
    "\n",
    "# instantiating over and under sampler\n",
    "\n",
    "under = RandomUnderSampler(sampling_strategy=0.70) \n",
    "over = RandomOverSampler(sampling_strategy=1)\n",
    "\n",
    "X_under, y_under = under.fit_resample(X_train, y_train)\n",
    "\n",
    "X_train_c, y_train_c = over.fit_resample(X_under, y_under)\n",
    "y_train_c.value_counts()"
   ]
  },
  {
   "cell_type": "code",
   "execution_count": 51,
   "id": "6909431e",
   "metadata": {},
   "outputs": [
    {
     "name": "stdout",
     "output_type": "stream",
     "text": [
      "[03:09:38] WARNING: C:/Users/Administrator/workspace/xgboost-win64_release_1.5.1/src/learner.cc:576: \n",
      "Parameters: { \"class_weight\" } might not be used.\n",
      "\n",
      "  This could be a false alarm, with some parameters getting used by language bindings but\n",
      "  then being mistakenly passed down to XGBoost core, or some parameter actually being used\n",
      "  but getting flagged wrongly here. Please open an issue if you find any such cases.\n",
      "\n",
      "\n",
      "[03:09:38] WARNING: C:/Users/Administrator/workspace/xgboost-win64_release_1.5.1/src/learner.cc:1115: Starting in XGBoost 1.3.0, the default evaluation metric used with the objective 'binary:logistic' was changed from 'error' to 'logloss'. Explicitly set eval_metric if you'd like to restore the old behavior.\n",
      "              precision    recall  f1-score   support\n",
      "\n",
      "           0       0.68      0.74      0.71      8120\n",
      "           1       0.86      0.82      0.84     15311\n",
      "\n",
      "    accuracy                           0.79     23431\n",
      "   macro avg       0.77      0.78      0.78     23431\n",
      "weighted avg       0.80      0.79      0.79     23431\n",
      "\n"
     ]
    },
    {
     "data": {
      "image/png": "[encoded data removed]",
      "text/plain": [
       "<Figure size 432x288 with 2 Axes>"
      ]
     },
     "metadata": {
      "needs_background": "light"
     },
     "output_type": "display_data"
    }
   ],
   "source": [
    "xgb = XGBClassifier(class_weight = 'balanced')\n",
    "xgb_model = xgb.fit(X_train_c, y_train_c)\n",
    "y_pred = xgb_model.predict(X_test)\n",
    "print(classification_report(y_test, y_pred))\n",
    "sns.heatmap(confusion_matrix(y_test, y_pred), annot = True, fmt = 'd')\n",
    "plt.show()"
   ]
  },
  {
   "cell_type": "code",
   "execution_count": 52,
   "id": "7f0250a4",
   "metadata": {},
   "outputs": [],
   "source": [
    "import imblearn\n",
    "from imblearn.over_sampling import SMOTE\n",
    "sm = SMOTE()\n",
    "X_resampled, y_resampled = sm.fit_resample(X_train, y_train)"
   ]
  },
  {
   "cell_type": "code",
   "execution_count": 53,
   "id": "207691de",
   "metadata": {},
   "outputs": [
    {
     "name": "stdout",
     "output_type": "stream",
     "text": [
      "[03:09:51] WARNING: C:/Users/Administrator/workspace/xgboost-win64_release_1.5.1/src/learner.cc:576: \n",
      "Parameters: { \"class_weight\" } might not be used.\n",
      "\n",
      "  This could be a false alarm, with some parameters getting used by language bindings but\n",
      "  then being mistakenly passed down to XGBoost core, or some parameter actually being used\n",
      "  but getting flagged wrongly here. Please open an issue if you find any such cases.\n",
      "\n",
      "\n",
      "[03:09:51] WARNING: C:/Users/Administrator/workspace/xgboost-win64_release_1.5.1/src/learner.cc:1115: Starting in XGBoost 1.3.0, the default evaluation metric used with the objective 'binary:logistic' was changed from 'error' to 'logloss'. Explicitly set eval_metric if you'd like to restore the old behavior.\n",
      "              precision    recall  f1-score   support\n",
      "\n",
      "           0       0.69      0.74      0.71      8120\n",
      "           1       0.86      0.82      0.84     15311\n",
      "\n",
      "    accuracy                           0.79     23431\n",
      "   macro avg       0.77      0.78      0.78     23431\n",
      "weighted avg       0.80      0.79      0.79     23431\n",
      "\n"
     ]
    },
    {
     "data": {
      "image/png": "[encoded data removed]",
      "text/plain": [
       "<Figure size 432x288 with 2 Axes>"
      ]
     },
     "metadata": {
      "needs_background": "light"
     },
     "output_type": "display_data"
    }
   ],
   "source": [
    "xgb = XGBClassifier(class_weight = 'balanced')\n",
    "xgb_model = xgb.fit(X_resampled, y_resampled)\n",
    "y_pred = xgb_model.predict(X_test)\n",
    "print(classification_report(y_test, y_pred))\n",
    "sns.heatmap(confusion_matrix(y_test, y_pred), annot = True, fmt = 'd')\n",
    "plt.show()"
   ]
  },
  {
   "cell_type": "code",
   "execution_count": 54,
   "id": "35eca062",
   "metadata": {},
   "outputs": [
    {
     "data": {
      "image/png": "[encoded data removed]",
      "text/plain": [
       "<Figure size 432x288 with 1 Axes>"
      ]
     },
     "metadata": {
      "needs_background": "light"
     },
     "output_type": "display_data"
    }
   ],
   "source": [
    "y_prob = xgb_model.predict_proba(X_test)\n",
    "fpr, tpr, th = roc_curve(y_test, y_prob[:, 1])\n",
    "plt.plot(fpr, tpr)\n",
    "plt.plot([0,1], [0,1], 'r--')\n",
    "plt.grid()\n",
    "plt.text(x = 0.4, y = 0.09, s = ('AUC Score : ', roc_auc_score(y_test, y_prob[:, 1])))\n",
    "plt.show()"
   ]
  },
  {
   "cell_type": "code",
   "execution_count": 55,
   "id": "09283e5e",
   "metadata": {},
   "outputs": [
    {
     "data": {
      "text/plain": [
       "0.552279357577141"
      ]
     },
     "execution_count": 55,
     "metadata": {},
     "output_type": "execute_result"
    }
   ],
   "source": [
    "from sklearn.metrics import cohen_kappa_score\n",
    "cohen_kappa_score(y_test, y_pred)\n",
    "# 55.27 % of our predictions are correct."
   ]
  },
  {
   "cell_type": "code",
   "execution_count": 56,
   "id": "6ae5bee7",
   "metadata": {},
   "outputs": [],
   "source": [
    "# We can consider the above model as our final model.\n",
    "# f1-score for class 0 = 0.71\n",
    "# f1-score for class 1 = 0.84"
   ]
  }
 ],
 "metadata": {
  "kernelspec": {
   "display_name": "Python 3",
   "language": "python",
   "name": "python3"
  },
  "language_info": {
   "codemirror_mode": {
    "name": "ipython",
    "version": 3
   },
   "file_extension": ".py",
   "mimetype": "text/x-python",
   "name": "python",
   "nbconvert_exporter": "python",
   "pygments_lexer": "ipython3",
   "version": "3.8.8"
  }
 },
 "nbformat": 4,
 "nbformat_minor": 5
}
